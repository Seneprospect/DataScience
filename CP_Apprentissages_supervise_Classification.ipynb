{
  "cells": [
    {
      "cell_type": "markdown",
      "metadata": {
        "id": "view-in-github",
        "colab_type": "text"
      },
      "source": [
        "<a href=\"https://colab.research.google.com/github/Seneprospect/DataScience/blob/main/CP_Apprentissages_supervise_Classification.ipynb\" target=\"_parent\"><img src=\"https://colab.research.google.com/assets/colab-badge.svg\" alt=\"Open In Colab\"/></a>"
      ]
    },
    {
      "cell_type": "markdown",
      "id": "b8e60a2c-b6ba-49dd-8b28-b2c4e1adb186",
      "metadata": {
        "id": "b8e60a2c-b6ba-49dd-8b28-b2c4e1adb186"
      },
      "source": [
        "Apprentissage_supervise_classification: La classification est une tache d'apprentissage automatique ou l'on cherche à predire une étiquette (ou classe) categorique(ex:Malade ou pas malade) à partir d'un ensemble de caractéristiques ( variables indépendantes)."
      ]
    },
    {
      "cell_type": "markdown",
      "id": "a419403b-8221-43ed-a588-29e4434cf5d3",
      "metadata": {
        "id": "a419403b-8221-43ed-a588-29e4434cf5d3"
      },
      "source": [
        "# Enonce du projet: Prediction de l'etat de santé au Sénégal"
      ]
    },
    {
      "cell_type": "markdown",
      "id": "057aee77-65cf-4821-8df7-790e82368474",
      "metadata": {
        "id": "057aee77-65cf-4821-8df7-790e82368474"
      },
      "source": [
        "Contexte : Vous êtes une équipe de data scientists en formation travaillant pour une organisation de santé au Sénégal. L'objectif de ce projet est de construire un modèle d'apprentissage automatique capable de prédire l'état de santé d'un patient (par exemple, présence ou absence d'une maladie spécifique - notre colonne cible 'Diagnostic_Maladie_A' dans le dataset sante_senegal.csv) en se basant sur des informations cliniques de base."
      ]
    },
    {
      "cell_type": "markdown",
      "id": "2b20a439-d316-4e3e-86ec-fc38dfec8f7e",
      "metadata": {
        "id": "2b20a439-d316-4e3e-86ec-fc38dfec8f7e"
      },
      "source": [
        "# Chargement du jeu de données"
      ]
    },
    {
      "cell_type": "code",
      "execution_count": null,
      "id": "3f095dbd-40af-4857-830a-1acdfdb9a3a2",
      "metadata": {
        "id": "3f095dbd-40af-4857-830a-1acdfdb9a3a2",
        "outputId": "9c86ad83-14b2-422d-85ba-731e3b3ee82b"
      },
      "outputs": [
        {
          "data": {
            "text/html": [
              "<div>\n",
              "<style scoped>\n",
              "    .dataframe tbody tr th:only-of-type {\n",
              "        vertical-align: middle;\n",
              "    }\n",
              "\n",
              "    .dataframe tbody tr th {\n",
              "        vertical-align: top;\n",
              "    }\n",
              "\n",
              "    .dataframe thead th {\n",
              "        text-align: right;\n",
              "    }\n",
              "</style>\n",
              "<table border=\"1\" class=\"dataframe\">\n",
              "  <thead>\n",
              "    <tr style=\"text-align: right;\">\n",
              "      <th></th>\n",
              "      <th>ID_Patient</th>\n",
              "      <th>Region</th>\n",
              "      <th>Age</th>\n",
              "      <th>Sexe</th>\n",
              "      <th>Temperature</th>\n",
              "      <th>Taux_Hemoglobine</th>\n",
              "      <th>Presence_Douleurs_Abdominales</th>\n",
              "      <th>Frequence_Respiratoire</th>\n",
              "      <th>Tension_Arterielle_Systolique</th>\n",
              "      <th>Tension_Arterielle_Diastolique</th>\n",
              "      <th>Taux_Glucose</th>\n",
              "      <th>Symptomes_Jaundice</th>\n",
              "      <th>Diagnostic_Maladie_A</th>\n",
              "    </tr>\n",
              "  </thead>\n",
              "  <tbody>\n",
              "    <tr>\n",
              "      <th>0</th>\n",
              "      <td>1</td>\n",
              "      <td>Saint-Louis</td>\n",
              "      <td>71</td>\n",
              "      <td>Femme</td>\n",
              "      <td>36.4</td>\n",
              "      <td>17.0</td>\n",
              "      <td>Non</td>\n",
              "      <td>18</td>\n",
              "      <td>123.0</td>\n",
              "      <td>60.0</td>\n",
              "      <td>4.1</td>\n",
              "      <td>1.0</td>\n",
              "      <td>1</td>\n",
              "    </tr>\n",
              "    <tr>\n",
              "      <th>1</th>\n",
              "      <td>2</td>\n",
              "      <td>Sikasso</td>\n",
              "      <td>30</td>\n",
              "      <td>Femme</td>\n",
              "      <td>37.9</td>\n",
              "      <td>11.5</td>\n",
              "      <td>Non</td>\n",
              "      <td>12</td>\n",
              "      <td>119.0</td>\n",
              "      <td>73.0</td>\n",
              "      <td>5.4</td>\n",
              "      <td>0.0</td>\n",
              "      <td>0</td>\n",
              "    </tr>\n",
              "    <tr>\n",
              "      <th>2</th>\n",
              "      <td>3</td>\n",
              "      <td>Sédhiou</td>\n",
              "      <td>8</td>\n",
              "      <td>Homme</td>\n",
              "      <td>36.1</td>\n",
              "      <td>11.9</td>\n",
              "      <td>Non</td>\n",
              "      <td>24</td>\n",
              "      <td>121.0</td>\n",
              "      <td>85.0</td>\n",
              "      <td>6.6</td>\n",
              "      <td>0.0</td>\n",
              "      <td>1</td>\n",
              "    </tr>\n",
              "    <tr>\n",
              "      <th>3</th>\n",
              "      <td>4</td>\n",
              "      <td>Tambacounda</td>\n",
              "      <td>50</td>\n",
              "      <td>Homme</td>\n",
              "      <td>38.9</td>\n",
              "      <td>14.7</td>\n",
              "      <td>Non</td>\n",
              "      <td>14</td>\n",
              "      <td>113.0</td>\n",
              "      <td>83.0</td>\n",
              "      <td>6.7</td>\n",
              "      <td>0.0</td>\n",
              "      <td>0</td>\n",
              "    </tr>\n",
              "    <tr>\n",
              "      <th>4</th>\n",
              "      <td>5</td>\n",
              "      <td>Dakar</td>\n",
              "      <td>28</td>\n",
              "      <td>Femme</td>\n",
              "      <td>36.9</td>\n",
              "      <td>12.2</td>\n",
              "      <td>Oui</td>\n",
              "      <td>15</td>\n",
              "      <td>128.0</td>\n",
              "      <td>72.0</td>\n",
              "      <td>3.8</td>\n",
              "      <td>0.0</td>\n",
              "      <td>0</td>\n",
              "    </tr>\n",
              "    <tr>\n",
              "      <th>...</th>\n",
              "      <td>...</td>\n",
              "      <td>...</td>\n",
              "      <td>...</td>\n",
              "      <td>...</td>\n",
              "      <td>...</td>\n",
              "      <td>...</td>\n",
              "      <td>...</td>\n",
              "      <td>...</td>\n",
              "      <td>...</td>\n",
              "      <td>...</td>\n",
              "      <td>...</td>\n",
              "      <td>...</td>\n",
              "      <td>...</td>\n",
              "    </tr>\n",
              "    <tr>\n",
              "      <th>795</th>\n",
              "      <td>796</td>\n",
              "      <td>Kaffrine</td>\n",
              "      <td>17</td>\n",
              "      <td>Femme</td>\n",
              "      <td>39.2</td>\n",
              "      <td>13.3</td>\n",
              "      <td>Non</td>\n",
              "      <td>16</td>\n",
              "      <td>112.0</td>\n",
              "      <td>108.0</td>\n",
              "      <td>5.7</td>\n",
              "      <td>0.0</td>\n",
              "      <td>1</td>\n",
              "    </tr>\n",
              "    <tr>\n",
              "      <th>796</th>\n",
              "      <td>797</td>\n",
              "      <td>Kédougou</td>\n",
              "      <td>39</td>\n",
              "      <td>Homme</td>\n",
              "      <td>35.9</td>\n",
              "      <td>13.2</td>\n",
              "      <td>Oui</td>\n",
              "      <td>18</td>\n",
              "      <td>108.0</td>\n",
              "      <td>95.0</td>\n",
              "      <td>4.3</td>\n",
              "      <td>0.0</td>\n",
              "      <td>0</td>\n",
              "    </tr>\n",
              "    <tr>\n",
              "      <th>797</th>\n",
              "      <td>798</td>\n",
              "      <td>Tambacounda</td>\n",
              "      <td>20</td>\n",
              "      <td>Femme</td>\n",
              "      <td>38.3</td>\n",
              "      <td>14.1</td>\n",
              "      <td>Non</td>\n",
              "      <td>27</td>\n",
              "      <td>114.0</td>\n",
              "      <td>85.0</td>\n",
              "      <td>9.2</td>\n",
              "      <td>NaN</td>\n",
              "      <td>0</td>\n",
              "    </tr>\n",
              "    <tr>\n",
              "      <th>798</th>\n",
              "      <td>799</td>\n",
              "      <td>Kolda</td>\n",
              "      <td>14</td>\n",
              "      <td>Homme</td>\n",
              "      <td>36.8</td>\n",
              "      <td>11.3</td>\n",
              "      <td>Non</td>\n",
              "      <td>12</td>\n",
              "      <td>129.0</td>\n",
              "      <td>103.0</td>\n",
              "      <td>6.6</td>\n",
              "      <td>0.0</td>\n",
              "      <td>1</td>\n",
              "    </tr>\n",
              "    <tr>\n",
              "      <th>799</th>\n",
              "      <td>800</td>\n",
              "      <td>Kédougou</td>\n",
              "      <td>25</td>\n",
              "      <td>Femme</td>\n",
              "      <td>39.6</td>\n",
              "      <td>13.1</td>\n",
              "      <td>Oui</td>\n",
              "      <td>12</td>\n",
              "      <td>94.0</td>\n",
              "      <td>86.0</td>\n",
              "      <td>5.7</td>\n",
              "      <td>0.0</td>\n",
              "      <td>1</td>\n",
              "    </tr>\n",
              "  </tbody>\n",
              "</table>\n",
              "<p>800 rows × 13 columns</p>\n",
              "</div>"
            ],
            "text/plain": [
              "     ID_Patient       Region  Age   Sexe  Temperature  Taux_Hemoglobine  \\\n",
              "0             1  Saint-Louis   71  Femme         36.4              17.0   \n",
              "1             2      Sikasso   30  Femme         37.9              11.5   \n",
              "2             3      Sédhiou    8  Homme         36.1              11.9   \n",
              "3             4  Tambacounda   50  Homme         38.9              14.7   \n",
              "4             5        Dakar   28  Femme         36.9              12.2   \n",
              "..          ...          ...  ...    ...          ...               ...   \n",
              "795         796     Kaffrine   17  Femme         39.2              13.3   \n",
              "796         797     Kédougou   39  Homme         35.9              13.2   \n",
              "797         798  Tambacounda   20  Femme         38.3              14.1   \n",
              "798         799        Kolda   14  Homme         36.8              11.3   \n",
              "799         800     Kédougou   25  Femme         39.6              13.1   \n",
              "\n",
              "    Presence_Douleurs_Abdominales  Frequence_Respiratoire  \\\n",
              "0                             Non                      18   \n",
              "1                             Non                      12   \n",
              "2                             Non                      24   \n",
              "3                             Non                      14   \n",
              "4                             Oui                      15   \n",
              "..                            ...                     ...   \n",
              "795                           Non                      16   \n",
              "796                           Oui                      18   \n",
              "797                           Non                      27   \n",
              "798                           Non                      12   \n",
              "799                           Oui                      12   \n",
              "\n",
              "     Tension_Arterielle_Systolique  Tension_Arterielle_Diastolique  \\\n",
              "0                            123.0                            60.0   \n",
              "1                            119.0                            73.0   \n",
              "2                            121.0                            85.0   \n",
              "3                            113.0                            83.0   \n",
              "4                            128.0                            72.0   \n",
              "..                             ...                             ...   \n",
              "795                          112.0                           108.0   \n",
              "796                          108.0                            95.0   \n",
              "797                          114.0                            85.0   \n",
              "798                          129.0                           103.0   \n",
              "799                           94.0                            86.0   \n",
              "\n",
              "     Taux_Glucose  Symptomes_Jaundice  Diagnostic_Maladie_A  \n",
              "0             4.1                 1.0                     1  \n",
              "1             5.4                 0.0                     0  \n",
              "2             6.6                 0.0                     1  \n",
              "3             6.7                 0.0                     0  \n",
              "4             3.8                 0.0                     0  \n",
              "..            ...                 ...                   ...  \n",
              "795           5.7                 0.0                     1  \n",
              "796           4.3                 0.0                     0  \n",
              "797           9.2                 NaN                     0  \n",
              "798           6.6                 0.0                     1  \n",
              "799           5.7                 0.0                     1  \n",
              "\n",
              "[800 rows x 13 columns]"
            ]
          },
          "execution_count": 5,
          "metadata": {},
          "output_type": "execute_result"
        }
      ],
      "source": [
        "import pandas as pd\n",
        "df=pd.read_csv(\"sante_senegal.csv\")\n",
        "df"
      ]
    },
    {
      "cell_type": "code",
      "execution_count": null,
      "id": "0f534b93-0257-46bf-91f8-3724aa8889bb",
      "metadata": {
        "id": "0f534b93-0257-46bf-91f8-3724aa8889bb",
        "outputId": "f976d2d3-1116-4f68-f556-ea2a09782881"
      },
      "outputs": [
        {
          "name": "stdout",
          "output_type": "stream",
          "text": [
            "<class 'pandas.core.frame.DataFrame'>\n",
            "RangeIndex: 800 entries, 0 to 799\n",
            "Data columns (total 13 columns):\n",
            " #   Column                          Non-Null Count  Dtype  \n",
            "---  ------                          --------------  -----  \n",
            " 0   ID_Patient                      800 non-null    int64  \n",
            " 1   Region                          800 non-null    object \n",
            " 2   Age                             800 non-null    int64  \n",
            " 3   Sexe                            782 non-null    object \n",
            " 4   Temperature                     800 non-null    float64\n",
            " 5   Taux_Hemoglobine                800 non-null    float64\n",
            " 6   Presence_Douleurs_Abdominales   762 non-null    object \n",
            " 7   Frequence_Respiratoire          800 non-null    int64  \n",
            " 8   Tension_Arterielle_Systolique   800 non-null    float64\n",
            " 9   Tension_Arterielle_Diastolique  800 non-null    float64\n",
            " 10  Taux_Glucose                    800 non-null    float64\n",
            " 11  Symptomes_Jaundice              772 non-null    float64\n",
            " 12  Diagnostic_Maladie_A            800 non-null    int64  \n",
            "dtypes: float64(6), int64(4), object(3)\n",
            "memory usage: 81.4+ KB\n"
          ]
        }
      ],
      "source": [
        "#Infos sur les types de données\n",
        "df.info()"
      ]
    },
    {
      "cell_type": "code",
      "execution_count": null,
      "id": "9d083722-cd74-4c67-804d-f894cd4f9087",
      "metadata": {
        "id": "9d083722-cd74-4c67-804d-f894cd4f9087",
        "outputId": "5f01f8e5-1121-4366-e68e-3bc9947508fe"
      },
      "outputs": [
        {
          "data": {
            "text/html": [
              "<div>\n",
              "<style scoped>\n",
              "    .dataframe tbody tr th:only-of-type {\n",
              "        vertical-align: middle;\n",
              "    }\n",
              "\n",
              "    .dataframe tbody tr th {\n",
              "        vertical-align: top;\n",
              "    }\n",
              "\n",
              "    .dataframe thead th {\n",
              "        text-align: right;\n",
              "    }\n",
              "</style>\n",
              "<table border=\"1\" class=\"dataframe\">\n",
              "  <thead>\n",
              "    <tr style=\"text-align: right;\">\n",
              "      <th></th>\n",
              "      <th>ID_Patient</th>\n",
              "      <th>Age</th>\n",
              "      <th>Temperature</th>\n",
              "      <th>Taux_Hemoglobine</th>\n",
              "      <th>Frequence_Respiratoire</th>\n",
              "      <th>Tension_Arterielle_Systolique</th>\n",
              "      <th>Tension_Arterielle_Diastolique</th>\n",
              "      <th>Taux_Glucose</th>\n",
              "      <th>Symptomes_Jaundice</th>\n",
              "      <th>Diagnostic_Maladie_A</th>\n",
              "    </tr>\n",
              "  </thead>\n",
              "  <tbody>\n",
              "    <tr>\n",
              "      <th>count</th>\n",
              "      <td>800.0000</td>\n",
              "      <td>800.00000</td>\n",
              "      <td>800.000000</td>\n",
              "      <td>800.000000</td>\n",
              "      <td>800.000000</td>\n",
              "      <td>800.000000</td>\n",
              "      <td>800.000000</td>\n",
              "      <td>800.000000</td>\n",
              "      <td>772.000000</td>\n",
              "      <td>800.000000</td>\n",
              "    </tr>\n",
              "    <tr>\n",
              "      <th>mean</th>\n",
              "      <td>400.5000</td>\n",
              "      <td>45.36000</td>\n",
              "      <td>37.450500</td>\n",
              "      <td>13.050375</td>\n",
              "      <td>20.380000</td>\n",
              "      <td>119.826250</td>\n",
              "      <td>79.480000</td>\n",
              "      <td>5.395750</td>\n",
              "      <td>0.161917</td>\n",
              "      <td>0.285000</td>\n",
              "    </tr>\n",
              "    <tr>\n",
              "      <th>std</th>\n",
              "      <td>231.0844</td>\n",
              "      <td>29.28455</td>\n",
              "      <td>1.386905</td>\n",
              "      <td>2.110727</td>\n",
              "      <td>5.126739</td>\n",
              "      <td>14.620902</td>\n",
              "      <td>10.582513</td>\n",
              "      <td>1.533483</td>\n",
              "      <td>0.368614</td>\n",
              "      <td>0.451697</td>\n",
              "    </tr>\n",
              "    <tr>\n",
              "      <th>min</th>\n",
              "      <td>1.0000</td>\n",
              "      <td>0.00000</td>\n",
              "      <td>25.400000</td>\n",
              "      <td>7.000000</td>\n",
              "      <td>12.000000</td>\n",
              "      <td>71.000000</td>\n",
              "      <td>44.000000</td>\n",
              "      <td>0.600000</td>\n",
              "      <td>0.000000</td>\n",
              "      <td>0.000000</td>\n",
              "    </tr>\n",
              "    <tr>\n",
              "      <th>25%</th>\n",
              "      <td>200.7500</td>\n",
              "      <td>22.00000</td>\n",
              "      <td>36.700000</td>\n",
              "      <td>11.675000</td>\n",
              "      <td>16.000000</td>\n",
              "      <td>110.000000</td>\n",
              "      <td>73.000000</td>\n",
              "      <td>4.300000</td>\n",
              "      <td>0.000000</td>\n",
              "      <td>0.000000</td>\n",
              "    </tr>\n",
              "    <tr>\n",
              "      <th>50%</th>\n",
              "      <td>400.5000</td>\n",
              "      <td>44.00000</td>\n",
              "      <td>37.500000</td>\n",
              "      <td>13.000000</td>\n",
              "      <td>20.000000</td>\n",
              "      <td>120.000000</td>\n",
              "      <td>79.000000</td>\n",
              "      <td>5.400000</td>\n",
              "      <td>0.000000</td>\n",
              "      <td>0.000000</td>\n",
              "    </tr>\n",
              "    <tr>\n",
              "      <th>75%</th>\n",
              "      <td>600.2500</td>\n",
              "      <td>66.00000</td>\n",
              "      <td>38.300000</td>\n",
              "      <td>14.400000</td>\n",
              "      <td>25.000000</td>\n",
              "      <td>129.000000</td>\n",
              "      <td>86.000000</td>\n",
              "      <td>6.500000</td>\n",
              "      <td>0.000000</td>\n",
              "      <td>1.000000</td>\n",
              "    </tr>\n",
              "    <tr>\n",
              "      <th>max</th>\n",
              "      <td>800.0000</td>\n",
              "      <td>193.00000</td>\n",
              "      <td>41.300000</td>\n",
              "      <td>22.100000</td>\n",
              "      <td>29.000000</td>\n",
              "      <td>165.000000</td>\n",
              "      <td>112.000000</td>\n",
              "      <td>10.000000</td>\n",
              "      <td>1.000000</td>\n",
              "      <td>1.000000</td>\n",
              "    </tr>\n",
              "  </tbody>\n",
              "</table>\n",
              "</div>"
            ],
            "text/plain": [
              "       ID_Patient        Age  Temperature  Taux_Hemoglobine  \\\n",
              "count    800.0000  800.00000   800.000000        800.000000   \n",
              "mean     400.5000   45.36000    37.450500         13.050375   \n",
              "std      231.0844   29.28455     1.386905          2.110727   \n",
              "min        1.0000    0.00000    25.400000          7.000000   \n",
              "25%      200.7500   22.00000    36.700000         11.675000   \n",
              "50%      400.5000   44.00000    37.500000         13.000000   \n",
              "75%      600.2500   66.00000    38.300000         14.400000   \n",
              "max      800.0000  193.00000    41.300000         22.100000   \n",
              "\n",
              "       Frequence_Respiratoire  Tension_Arterielle_Systolique  \\\n",
              "count              800.000000                     800.000000   \n",
              "mean                20.380000                     119.826250   \n",
              "std                  5.126739                      14.620902   \n",
              "min                 12.000000                      71.000000   \n",
              "25%                 16.000000                     110.000000   \n",
              "50%                 20.000000                     120.000000   \n",
              "75%                 25.000000                     129.000000   \n",
              "max                 29.000000                     165.000000   \n",
              "\n",
              "       Tension_Arterielle_Diastolique  Taux_Glucose  Symptomes_Jaundice  \\\n",
              "count                      800.000000    800.000000          772.000000   \n",
              "mean                        79.480000      5.395750            0.161917   \n",
              "std                         10.582513      1.533483            0.368614   \n",
              "min                         44.000000      0.600000            0.000000   \n",
              "25%                         73.000000      4.300000            0.000000   \n",
              "50%                         79.000000      5.400000            0.000000   \n",
              "75%                         86.000000      6.500000            0.000000   \n",
              "max                        112.000000     10.000000            1.000000   \n",
              "\n",
              "       Diagnostic_Maladie_A  \n",
              "count            800.000000  \n",
              "mean               0.285000  \n",
              "std                0.451697  \n",
              "min                0.000000  \n",
              "25%                0.000000  \n",
              "50%                0.000000  \n",
              "75%                1.000000  \n",
              "max                1.000000  "
            ]
          },
          "execution_count": 9,
          "metadata": {},
          "output_type": "execute_result"
        }
      ],
      "source": [
        "#statistiques descriptives\n",
        "df.describe()"
      ]
    },
    {
      "cell_type": "markdown",
      "id": "3852511f-7e55-4673-a4ac-ac7ed818f718",
      "metadata": {
        "id": "3852511f-7e55-4673-a4ac-ac7ed818f718"
      },
      "source": [
        "# Nettoyage et pretraitement des données"
      ]
    },
    {
      "cell_type": "code",
      "execution_count": null,
      "id": "c404146c-0bd0-4866-941a-dfab71045c64",
      "metadata": {
        "id": "c404146c-0bd0-4866-941a-dfab71045c64",
        "outputId": "bf9bab10-74d6-4a91-b8e8-5c38e2140eff"
      },
      "outputs": [
        {
          "data": {
            "text/plain": [
              "ID_Patient                         0\n",
              "Region                             0\n",
              "Age                                0\n",
              "Sexe                              18\n",
              "Temperature                        0\n",
              "Taux_Hemoglobine                   0\n",
              "Presence_Douleurs_Abdominales     38\n",
              "Frequence_Respiratoire             0\n",
              "Tension_Arterielle_Systolique      0\n",
              "Tension_Arterielle_Diastolique     0\n",
              "Taux_Glucose                       0\n",
              "Symptomes_Jaundice                28\n",
              "Diagnostic_Maladie_A               0\n",
              "dtype: int64"
            ]
          },
          "execution_count": 12,
          "metadata": {},
          "output_type": "execute_result"
        }
      ],
      "source": [
        "#vérification des valeurs manquantes\n",
        "df.isnull().sum()"
      ]
    },
    {
      "cell_type": "code",
      "execution_count": null,
      "id": "a05c692b-e2d7-425b-bca4-f8249fd44a5d",
      "metadata": {
        "id": "a05c692b-e2d7-425b-bca4-f8249fd44a5d",
        "outputId": "341d6c8e-9ab2-4d0f-c2ab-a689bc7aac11"
      },
      "outputs": [
        {
          "name": "stderr",
          "output_type": "stream",
          "text": [
            "/var/folders/r4/0pbxyrr14pd5yyt32v1qwygm0000gn/T/ipykernel_24682/4099754111.py:6: FutureWarning: A value is trying to be set on a copy of a DataFrame or Series through chained assignment using an inplace method.\n",
            "The behavior will change in pandas 3.0. This inplace method will never work because the intermediate object on which we are setting values always behaves as a copy.\n",
            "\n",
            "For example, when doing 'df[col].method(value, inplace=True)', try using 'df.method({col: value}, inplace=True)' or df[col] = df[col].method(value) instead, to perform the operation inplace on the original object.\n",
            "\n",
            "\n",
            "  df[col].fillna(mode, inplace=True)\n"
          ]
        }
      ],
      "source": [
        "#Remplacer les valeurs manquantes par le mode\n",
        "colonnes=[\"Sexe\",\"Presence_Douleurs_Abdominales\",\"Symptomes_Jaundice\"]\n",
        "\n",
        "for col in colonnes:\n",
        "    mode=df[col].mode()[0]\n",
        "    df[col].fillna(mode, inplace=True)"
      ]
    },
    {
      "cell_type": "code",
      "execution_count": null,
      "id": "3b25424b-f107-4229-a5b9-67f8de3a0666",
      "metadata": {
        "id": "3b25424b-f107-4229-a5b9-67f8de3a0666",
        "outputId": "f7fe5678-7522-4890-e93f-15b6e0f653a5"
      },
      "outputs": [
        {
          "data": {
            "text/plain": [
              "array(['Saint-Louis', 'Sikasso', 'Sédhiou', 'Tambacounda', 'Dakar',\n",
              "       'Kaffrine', 'Kolda', 'Matam', 'Thiès', 'Ziguinchor', 'Kaolack',\n",
              "       'Louga', 'Kédougou'], dtype=object)"
            ]
          },
          "execution_count": 18,
          "metadata": {},
          "output_type": "execute_result"
        }
      ],
      "source": [
        "df['Region'].unique()"
      ]
    },
    {
      "cell_type": "code",
      "execution_count": null,
      "id": "4cb35644-1311-4f8e-a9b0-755be7e297c0",
      "metadata": {
        "id": "4cb35644-1311-4f8e-a9b0-755be7e297c0",
        "outputId": "d926dc4f-0388-4a94-b26d-0cf4ebbce8b8"
      },
      "outputs": [
        {
          "data": {
            "text/plain": [
              "759"
            ]
          },
          "execution_count": 24,
          "metadata": {},
          "output_type": "execute_result"
        }
      ],
      "source": [
        "df.shape[0]"
      ]
    },
    {
      "cell_type": "code",
      "execution_count": null,
      "id": "7130b736-712e-4fdb-9c86-b734373ad052",
      "metadata": {
        "id": "7130b736-712e-4fdb-9c86-b734373ad052"
      },
      "outputs": [],
      "source": [
        "df=df[df['Region'] != 'Sikasso']"
      ]
    },
    {
      "cell_type": "code",
      "execution_count": null,
      "id": "134d7fcd-f42e-4f14-8faf-7fc408e2d6a2",
      "metadata": {
        "id": "134d7fcd-f42e-4f14-8faf-7fc408e2d6a2",
        "outputId": "16b75ac7-3f7b-484c-ff64-af888f47a66d"
      },
      "outputs": [
        {
          "data": {
            "text/plain": [
              "ID_Patient                        0\n",
              "Region                            0\n",
              "Age                               0\n",
              "Sexe                              0\n",
              "Temperature                       0\n",
              "Taux_Hemoglobine                  0\n",
              "Presence_Douleurs_Abdominales     0\n",
              "Frequence_Respiratoire            0\n",
              "Tension_Arterielle_Systolique     0\n",
              "Tension_Arterielle_Diastolique    0\n",
              "Taux_Glucose                      0\n",
              "Symptomes_Jaundice                0\n",
              "Diagnostic_Maladie_A              0\n",
              "dtype: int64"
            ]
          },
          "execution_count": 26,
          "metadata": {},
          "output_type": "execute_result"
        }
      ],
      "source": [
        "df.isnull().sum()"
      ]
    },
    {
      "cell_type": "code",
      "execution_count": null,
      "id": "8592d215-18de-4242-80ac-5c3eba903512",
      "metadata": {
        "id": "8592d215-18de-4242-80ac-5c3eba903512",
        "outputId": "5be46c0a-b586-492c-8b0d-41a0a2da2d9c"
      },
      "outputs": [
        {
          "data": {
            "image/png": "[encoded data removed]",
            "text/plain": [
              "<Figure size 1500x1000 with 7 Axes>"
            ]
          },
          "metadata": {},
          "output_type": "display_data"
        }
      ],
      "source": [
        "import matplotlib.pyplot as plt\n",
        "import seaborn as sns\n",
        "\n",
        "variables=['Age','Temperature','Taux_Hemoglobine','Frequence_Respiratoire','Tension_Arterielle_Systolique','Tension_Arterielle_Diastolique',\n",
        "           'Taux_Glucose']\n",
        "plt.figure(figsize=(15, 10))\n",
        "for i, var in enumerate(variables):\n",
        "    plt.subplot(3,3, i + 1)\n",
        "    sns.boxplot(x=df[var])\n",
        "    plt.title(f\"Boxplot de {var}\")\n",
        "plt.tight_layout()  # rend les données propres\n",
        "plt.show()"
      ]
    },
    {
      "cell_type": "code",
      "execution_count": null,
      "id": "1c75070f-e14d-4269-aa2c-fb2b8838939c",
      "metadata": {
        "id": "1c75070f-e14d-4269-aa2c-fb2b8838939c",
        "outputId": "c09e7d06-4647-445b-a4bd-71a48adcd903"
      },
      "outputs": [
        {
          "name": "stdout",
          "output_type": "stream",
          "text": [
            "Age - Nombre de valeurs aberrantes : 10\n",
            "Temperature - Nombre de valeurs aberrantes : 12\n",
            "Taux_Hemoglobine - Nombre de valeurs aberrantes : 12\n",
            "Frequence_Respiratoire - Nombre de valeurs aberrantes : 0\n",
            "Tension_Arterielle_Systolique - Nombre de valeurs aberrantes : 10\n",
            "Tension_Arterielle_Diastolique - Nombre de valeurs aberrantes : 9\n",
            "Taux_Glucose - Nombre de valeurs aberrantes : 4\n"
          ]
        }
      ],
      "source": [
        "#Detecter les valeurs aberrantes\n",
        "def aberrantes(df,colonne):\n",
        "    Q1 = df[colonne].quantile(0.25)\n",
        "    Q3 = df[colonne].quantile(0.75)\n",
        "    IQR = Q3 - Q1\n",
        "    borne_inf = Q1 - 1.5 * IQR\n",
        "    borne_sub = Q3 + 1.5 * IQR\n",
        "    outliers=df[(df[colonne]< borne_inf) | (df[colonne]> borne_sub)]\n",
        "    return outliers\n",
        "variables=['Age','Temperature','Taux_Hemoglobine','Frequence_Respiratoire','Tension_Arterielle_Systolique','Tension_Arterielle_Diastolique',\n",
        "           'Taux_Glucose']\n",
        "for col in variables:\n",
        "    outliers= aberrantes(df,col)\n",
        "    print(f\"{col} - Nombre de valeurs aberrantes : {len(outliers)}\")"
      ]
    },
    {
      "cell_type": "code",
      "execution_count": null,
      "id": "b23e7052-2218-4b26-a29a-fbe62f00cd99",
      "metadata": {
        "id": "b23e7052-2218-4b26-a29a-fbe62f00cd99"
      },
      "outputs": [],
      "source": []
    }
  ],
  "metadata": {
    "kernelspec": {
      "display_name": "Python [conda env:base] *",
      "language": "python",
      "name": "conda-base-py"
    },
    "language_info": {
      "codemirror_mode": {
        "name": "ipython",
        "version": 3
      },
      "file_extension": ".py",
      "mimetype": "text/x-python",
      "name": "python",
      "nbconvert_exporter": "python",
      "pygments_lexer": "ipython3",
      "version": "3.12.7"
    },
    "colab": {
      "provenance": [],
      "include_colab_link": true
    }
  },
  "nbformat": 4,
  "nbformat_minor": 5
}